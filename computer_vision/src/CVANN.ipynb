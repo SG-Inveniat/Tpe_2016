{
 "cells": [
  {
   "cell_type": "code",
   "execution_count": 4,
   "metadata": {
    "collapsed": false
   },
   "outputs": [],
   "source": [
    "# CVANN - Computer Vision Artificial Neural Network\n",
    "\n",
    "import os\n",
    "import numpy as np\n",
    "\n",
    "from keras.models import Sequential\n",
    "from keras.layers import MaxPooling2D, Convolution2D\n",
    "from keras.layers import Dense, Activation, Flatten, Dropout\n",
    "from keras.utils.np_utils import to_categorical\n",
    "\n",
    "from keras.preprocessing.image import ImageDataGenerator, array_to_img, img_to_array, load_img"
   ]
  },
  {
   "cell_type": "code",
   "execution_count": 5,
   "metadata": {
    "collapsed": true
   },
   "outputs": [],
   "source": [
    "def sep_grayscale_intervals(img, num_intervals=4, output_path=None):\n",
    "\n",
    "    img_array = img_to_array(img)\n",
    "\n",
    "    for img in range(len(img_array)):\n",
    "        for i in range(len(img_array[img])):\n",
    "            for j in range(len(img_array[img][i])):\n",
    "\n",
    "                pixel = img_array[img][i][j]\n",
    "                new_value = pixel\n",
    "\n",
    "                for interval in range(num_intervals):\n",
    "                    interval_max = 255-((256/num_intervals)*interval)\n",
    "                    if pixel < interval_max:\n",
    "                        new_value = interval_max-(256/num_intervals)\n",
    "\n",
    "                img_array[img][i][j] = new_value\n",
    "\n",
    "    if output_path:\n",
    "        img.save(output_path, 'JPEG')\n",
    "\n",
    "    return array_to_img(img_array)"
   ]
  },
  {
   "cell_type": "code",
   "execution_count": 6,
   "metadata": {
    "collapsed": true
   },
   "outputs": [],
   "source": [
    "def load_data(img_dir_name, img_dimensions=(120, 90)):\n",
    "\n",
    "    print('\\nLoading data: \"' + str(img_dir_name) + '\"')\n",
    "\n",
    "    directory = '..' + os.sep + 'resources' + os.sep + str(img_dir_name)\n",
    "    sub_dir_names = [file for file in os.listdir(directory) if not file.startswith('.')]\n",
    "\n",
    "    # calculate the total number of images | initialize the dictionary mapping the names to integers\n",
    "    total_num_images = 0\n",
    "    i = 0\n",
    "    dictionary = {}\n",
    "\n",
    "    for sub_dir in sub_dir_names:\n",
    "        sub_dir_path = directory + os.sep + sub_dir\n",
    "        image_files = [file for file in os.listdir(sub_dir_path) if not file.startswith('.')]\n",
    "        total_num_images += len(image_files)\n",
    "\n",
    "        dictionary[sub_dir] = i\n",
    "        i += 1\n",
    "\n",
    "    print('Loading ' + str(total_num_images) + ' images\\n')\n",
    "\n",
    "    data = []\n",
    "    labels = np.zeros((total_num_images, 1)).astype('int')\n",
    "    i = 0\n",
    "    for sub_dir in sub_dir_names:\n",
    "        print('current directory of images: ' + sub_dir)\n",
    "\n",
    "        label = int(dictionary[sub_dir])  # the 'label' associated to this folder\n",
    "        sub_dir_path = directory + os.sep + sub_dir\n",
    "        img_files = [file for file in os.listdir(sub_dir_path) if not file.startswith('.')]\n",
    "\n",
    "        for file in img_files:\n",
    "            file_path = sub_dir_path + os.sep + file\n",
    "            img = load_img(file_path, grayscale=True, target_size=img_dimensions)\n",
    "            # img = sep_grayscale_intervals(img, num_intervals=8)  # testing phase\n",
    "            img_array = img_to_array(img)\n",
    "\n",
    "            labels = np.insert(labels, i, label, axis=0)  # insert the label at position i\n",
    "            labels = np.delete(labels, -1, axis=0)  # remove the one too many element\n",
    "            data.append(img_array)\n",
    "            i += 1\n",
    "\n",
    "    data = np.asarray(data)\n",
    "    data /= 255\n",
    "    nb_classes = len(dictionary)\n",
    "    labels = to_categorical(labels, nb_classes=nb_classes)\n",
    "\n",
    "    return data, labels, nb_classes"
   ]
  },
  {
   "cell_type": "code",
   "execution_count": 7,
   "metadata": {
    "collapsed": true
   },
   "outputs": [],
   "source": [
    "def neural_network(train, validation, nb_epoch=5, batch_size=40, activations=('relu', 'relu', 'softmax'),\n",
    "                   nb_filters=30, img_dimensions=(120, 90), pool_dimensions=(8, 6), conv_dimensions=(12, 9),\n",
    "                   optimizer='rmsprop'):\n",
    "\n",
    "    model = Sequential()\n",
    "    model.add(Convolution2D(nb_filter=nb_filters, nb_row=conv_dimensions[0], nb_col=conv_dimensions[1],\n",
    "                            input_shape=(1, img_dimensions[0], img_dimensions[1]), activation=activations[0]))\n",
    "\n",
    "    model.add(MaxPooling2D(pool_size=pool_dimensions))\n",
    "    model.add(Dropout(0.5))\n",
    "    model.add(Flatten())  # converts our 2D feature maps to 1D feature vectors\n",
    "    model.add(Dense(128, activation=activations[1]))\n",
    "    model.add(Dropout(0.3))\n",
    "    model.add(Dense(train[2], activation=activations[2]))\n",
    "\n",
    "    model.compile(optimizer=optimizer, loss='categorical_crossentropy', metrics=['accuracy'])\n",
    "\n",
    "    model.fit(x=train[0], y=train[1], nb_epoch=nb_epoch, batch_size=batch_size)\n",
    "\n",
    "    print('\\n')\n",
    "    loss, accuracy = model.evaluate(x=validation[0], y=validation[1], batch_size=batch_size, verbose=1)\n",
    "    print('loss: ' + str(round(loss, 4)))\n",
    "    print('accuracy: ' + str(round(accuracy, 4)) + '\\n')\n",
    "\n",
    "    return model"
   ]
  },
  {
   "cell_type": "code",
   "execution_count": 70,
   "metadata": {
    "collapsed": false
   },
   "outputs": [
    {
     "name": "stdout",
     "output_type": "stream",
     "text": [
      "\n",
      "Loading data: \"CalTech_101\"\n",
      "Loading 9145 images\n",
      "\n",
      "current directory of images: accordion\n",
      "current directory of images: airplanes\n",
      "current directory of images: anchor\n",
      "current directory of images: ant\n",
      "current directory of images: BACKGROUND_Google\n",
      "current directory of images: barrel\n",
      "current directory of images: bass\n",
      "current directory of images: beaver\n",
      "current directory of images: binocular\n",
      "current directory of images: bonsai\n",
      "current directory of images: brain\n",
      "current directory of images: brontosaurus\n",
      "current directory of images: buddha\n",
      "current directory of images: butterfly\n",
      "current directory of images: camera\n",
      "current directory of images: cannon\n",
      "current directory of images: car_side\n",
      "current directory of images: ceiling_fan\n",
      "current directory of images: cellphone\n",
      "current directory of images: chair\n",
      "current directory of images: chandelier\n",
      "current directory of images: cougar_body\n",
      "current directory of images: cougar_face\n",
      "current directory of images: crab\n",
      "current directory of images: crayfish\n",
      "current directory of images: crocodile\n",
      "current directory of images: crocodile_head\n",
      "current directory of images: cup\n",
      "current directory of images: dalmatian\n",
      "current directory of images: dollar_bill\n",
      "current directory of images: dolphin\n",
      "current directory of images: dragonfly\n",
      "current directory of images: electric_guitar\n",
      "current directory of images: elephant\n",
      "current directory of images: emu\n",
      "current directory of images: euphonium\n",
      "current directory of images: ewer\n",
      "current directory of images: Faces\n",
      "current directory of images: Faces_easy\n",
      "current directory of images: ferry\n",
      "current directory of images: flamingo\n",
      "current directory of images: flamingo_head\n",
      "current directory of images: garfield\n",
      "current directory of images: gerenuk\n",
      "current directory of images: gramophone\n",
      "current directory of images: grand_piano\n",
      "current directory of images: hawksbill\n",
      "current directory of images: headphone\n",
      "current directory of images: hedgehog\n",
      "current directory of images: helicopter\n",
      "current directory of images: ibis\n",
      "current directory of images: inline_skate\n",
      "current directory of images: joshua_tree\n",
      "current directory of images: kangaroo\n",
      "current directory of images: ketch\n",
      "current directory of images: lamp\n",
      "current directory of images: laptop\n",
      "current directory of images: Leopards\n",
      "current directory of images: llama\n",
      "current directory of images: lobster\n",
      "current directory of images: lotus\n",
      "current directory of images: mandolin\n",
      "current directory of images: mayfly\n",
      "current directory of images: menorah\n",
      "current directory of images: metronome\n",
      "current directory of images: minaret\n",
      "current directory of images: Motorbikes\n",
      "current directory of images: nautilus\n",
      "current directory of images: octopus\n",
      "current directory of images: okapi\n",
      "current directory of images: pagoda\n",
      "current directory of images: panda\n",
      "current directory of images: pigeon\n",
      "current directory of images: pizza\n",
      "current directory of images: platypus\n",
      "current directory of images: pyramid\n",
      "current directory of images: revolver\n",
      "current directory of images: rhino\n",
      "current directory of images: rooster\n",
      "current directory of images: saxophone\n",
      "current directory of images: schooner\n",
      "current directory of images: scissors\n",
      "current directory of images: scorpion\n",
      "current directory of images: sea_horse\n",
      "current directory of images: snoopy\n",
      "current directory of images: soccer_ball\n",
      "current directory of images: stapler\n",
      "current directory of images: starfish\n",
      "current directory of images: stegosaurus\n",
      "current directory of images: stop_sign\n",
      "current directory of images: strawberry\n",
      "current directory of images: sunflower\n",
      "current directory of images: tick\n",
      "current directory of images: trilobite\n",
      "current directory of images: umbrella\n",
      "current directory of images: watch\n",
      "current directory of images: water_lilly\n",
      "current directory of images: wheelchair\n",
      "current directory of images: wild_cat\n",
      "current directory of images: windsor_chair\n",
      "current directory of images: wrench\n",
      "current directory of images: yin_yang\n"
     ]
    }
   ],
   "source": [
    "train = load_data('AV_train')\n",
    "validation = load_data('AV_validation')"
   ]
  },
  {
   "cell_type": "code",
   "execution_count": 71,
   "metadata": {
    "collapsed": false
   },
   "outputs": [
    {
     "name": "stdout",
     "output_type": "stream",
     "text": [
      "Epoch 1/1\n",
      "9145/9145 [==============================] - 454s - loss: 3.6470 - acc: 0.2504   \n",
      "\n",
      "\n",
      "9145/9145 [==============================] - 244s   \n",
      "loss: 2.9359\n",
      "accuracy: 0.3872\n",
      "\n"
     ]
    }
   ],
   "source": [
    "model = neural_network(train, validation, activations=('relu', 'relu', 'softmax'), nb_epoch=1, batch_size=30, optimizer='rmsprop')"
   ]
  },
  {
   "cell_type": "code",
   "execution_count": 73,
   "metadata": {
    "collapsed": false
   },
   "outputs": [
    {
     "name": "stdout",
     "output_type": "stream",
     "text": [
      "Epoch 1/4\n",
      "9145/9145 [==============================] - 474s - loss: 2.3606 - acc: 0.4742   \n",
      "Epoch 2/4\n",
      "9145/9145 [==============================] - 435s - loss: 2.2913 - acc: 0.4866   \n",
      "Epoch 3/4\n",
      "9145/9145 [==============================] - 436s - loss: 2.2137 - acc: 0.4975   \n",
      "Epoch 4/4\n",
      "9145/9145 [==============================] - 434s - loss: 2.1935 - acc: 0.5088   \n",
      "\n",
      "\n",
      "9145/9145 [==============================] - 273s   \n",
      "loss: 1.7076\n",
      "accuracy: 0.6232\n",
      "\n"
     ]
    }
   ],
   "source": [
    "model.fit(x=train[0], y=train[1], nb_epoch=4, batch_size=10)\n",
    "print('\\n')\n",
    "loss, accuracy = model.evaluate(x=validation[0], y=validation[1], batch_size=1, verbose=1)\n",
    "print('loss: ' + str(round(loss, 4)))\n",
    "print('accuracy: ' + str(round(accuracy, 4)) + '\\n')"
   ]
  },
  {
   "cell_type": "code",
   "execution_count": null,
   "metadata": {
    "collapsed": true
   },
   "outputs": [],
   "source": [
    ""
   ]
  }
 ],
 "metadata": {
  "anaconda-cloud": {},
  "kernelspec": {
   "display_name": "Python [Root]",
   "language": "python",
   "name": "Python [Root]"
  },
  "language_info": {
   "codemirror_mode": {
    "name": "ipython",
    "version": 3.0
   },
   "file_extension": ".py",
   "mimetype": "text/x-python",
   "name": "python",
   "nbconvert_exporter": "python",
   "pygments_lexer": "ipython3",
   "version": "3.5.2"
  }
 },
 "nbformat": 4,
 "nbformat_minor": 0
}